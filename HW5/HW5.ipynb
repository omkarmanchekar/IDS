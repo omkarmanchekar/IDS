{
 "cells": [
  {
   "cell_type": "markdown",
   "metadata": {},
   "source": [
    "<h2>Imports</h2>"
   ]
  },
  {
   "cell_type": "code",
   "execution_count": 142,
   "metadata": {},
   "outputs": [],
   "source": [
    "from sklearn.model_selection import KFold\n",
    "import pandas as pd\n",
    "import numpy as np \n",
    "from sklearn.linear_model import Ridge\n",
    "from sklearn.linear_model import LinearRegression\n",
    "from sklearn.model_selection import cross_validate\n",
    "from sklearn.metrics import mean_squared_error\n",
    "from sklearn.linear_model import Lasso\n"
   ]
  },
  {
   "cell_type": "markdown",
   "metadata": {},
   "source": [
    "<h2>Datasets</h2>"
   ]
  },
  {
   "cell_type": "code",
   "execution_count": 143,
   "metadata": {},
   "outputs": [],
   "source": [
    "train_dataset = pd.read_csv('/Users/omkarmanchekar/Desktop/Semester 1/Intro to Data Science/HW/HW5/BlogFeedback/blogData_train.csv',header=None)\n",
    "test_dataset = pd.read_csv('/Users/omkarmanchekar/Desktop/Semester 1/Intro to Data Science/HW/HW5/BlogFeedback/blogData_test-2012.03.31.01_00.csv',header=None)\n"
   ]
  },
  {
   "cell_type": "code",
   "execution_count": 144,
   "metadata": {},
   "outputs": [],
   "source": [
    "X_train=train_dataset.iloc[:,:280]\n",
    "Y_train= train_dataset.iloc[:,280:281]\n",
    "X_test=test_dataset.iloc[:,:280]\n",
    "Y_test= test_dataset.iloc[:,280:281]"
   ]
  },
  {
   "cell_type": "markdown",
   "metadata": {},
   "source": [
    "<h2>Least Squares Regression</h2>"
   ]
  },
  {
   "cell_type": "code",
   "execution_count": 145,
   "metadata": {},
   "outputs": [
    {
     "name": "stdout",
     "output_type": "stream",
     "text": [
      "{'fit_time': array([0.71251202, 0.58800006, 0.52319002, 0.49278188, 0.4654572 ,\n",
      "       0.48135018, 0.4565382 , 0.52536511, 0.4619801 , 0.4563489 ]), 'score_time': array([0.02193689, 0.00604796, 0.00450397, 0.00461197, 0.00486469,\n",
      "       0.0045588 , 0.00461388, 0.00463986, 0.00429916, 0.00454998]), 'estimator': [LinearRegression(), LinearRegression(), LinearRegression(), LinearRegression(), LinearRegression(), LinearRegression(), LinearRegression(), LinearRegression(), LinearRegression(), LinearRegression()], 'test_score': array([-15.60087478, -11.0289554 , -29.79756469, -10.83913846,\n",
      "        -5.7868122 ,  -8.6962501 ,  -6.7877736 ,  -5.61885621,\n",
      "        -7.24343364,  -5.53009666])}\n"
     ]
    }
   ],
   "source": [
    "model = LinearRegression()\n",
    "cv = KFold(n_splits=10)\n",
    "scores = cross_validate(model, X_train, Y_train, scoring='neg_mean_absolute_error', cv=cv,return_estimator=True)\n",
    "print(scores)\n",
    "z=scores['estimator'][2].predict(X_test)\n"
   ]
  },
  {
   "cell_type": "code",
   "execution_count": 146,
   "metadata": {},
   "outputs": [
    {
     "name": "stdout",
     "output_type": "stream",
     "text": [
      "RMSE\n"
     ]
    },
    {
     "data": {
      "text/plain": [
       "43.035794512762166"
      ]
     },
     "execution_count": 146,
     "metadata": {},
     "output_type": "execute_result"
    }
   ],
   "source": [
    "print(\"RMSE\")\n",
    "mean_squared_error(Y_test, z,squared=False)"
   ]
  },
  {
   "cell_type": "markdown",
   "metadata": {},
   "source": [
    "<h2>Ridge Regression</h2>"
   ]
  },
  {
   "cell_type": "code",
   "execution_count": 147,
   "metadata": {},
   "outputs": [
    {
     "name": "stdout",
     "output_type": "stream",
     "text": [
      "{'fit_time': array([0.21346784, 0.14342809, 0.14185071, 0.13852787, 0.14194107,\n",
      "       0.14324188, 0.14647818, 0.189013  , 0.14194989, 0.14372087]), 'score_time': array([0.00685906, 0.00562477, 0.00570011, 0.00599933, 0.00570178,\n",
      "       0.00588608, 0.00428081, 0.00555086, 0.00560617, 0.00574493]), 'estimator': [Ridge(alpha=1), Ridge(alpha=1), Ridge(alpha=1), Ridge(alpha=1), Ridge(alpha=1), Ridge(alpha=1), Ridge(alpha=1), Ridge(alpha=1), Ridge(alpha=1), Ridge(alpha=1)], 'test_score': array([-13.33040975,  -8.70154732, -26.46413337, -10.55930066,\n",
      "        -5.52889366,  -8.60465405,  -6.45994108,  -5.55716286,\n",
      "        -7.29120292,  -5.55355899])}\n"
     ]
    }
   ],
   "source": [
    "model = Ridge(alpha=1)\n",
    "cv = KFold(n_splits=10)\n",
    "scores = cross_validate(model, X_train, Y_train, scoring='neg_mean_absolute_error', cv=cv,return_estimator=True)\n",
    "print(scores)\n",
    "z=scores['estimator'][2].predict(X_test)"
   ]
  },
  {
   "cell_type": "code",
   "execution_count": 148,
   "metadata": {},
   "outputs": [
    {
     "name": "stdout",
     "output_type": "stream",
     "text": [
      "RMSE\n"
     ]
    },
    {
     "data": {
      "text/plain": [
       "43.00239954604016"
      ]
     },
     "execution_count": 148,
     "metadata": {},
     "output_type": "execute_result"
    }
   ],
   "source": [
    "print(\"RMSE\")\n",
    "mean_squared_error(Y_test, z,squared=False)"
   ]
  },
  {
   "cell_type": "markdown",
   "metadata": {},
   "source": [
    "<h2>LASSO</h2>"
   ]
  },
  {
   "cell_type": "code",
   "execution_count": 149,
   "metadata": {},
   "outputs": [
    {
     "name": "stdout",
     "output_type": "stream",
     "text": [
      "{'fit_time': array([1.41786981, 1.23418307, 1.21348405, 1.73037505, 1.42001605,\n",
      "       1.28639507, 1.57346988, 1.07583594, 3.72413993, 1.44133902]), 'score_time': array([0.00576615, 0.00679994, 0.00582719, 0.00518775, 0.00539804,\n",
      "       0.00571966, 0.00536919, 0.0057199 , 0.00556111, 0.00607705]), 'estimator': [Lasso(alpha=1, tol=0.25), Lasso(alpha=1, tol=0.25), Lasso(alpha=1, tol=0.25), Lasso(alpha=1, tol=0.25), Lasso(alpha=1, tol=0.25), Lasso(alpha=1, tol=0.25), Lasso(alpha=1, tol=0.25), Lasso(alpha=1, tol=0.25), Lasso(alpha=1, tol=0.25), Lasso(alpha=1, tol=0.25)], 'test_score': array([-13.98850219,  -7.69543775, -25.60717772, -10.24645669,\n",
      "        -5.29372092,  -8.22769862,  -5.7487473 ,  -4.90929728,\n",
      "        -6.68913822,  -4.85375302])}\n"
     ]
    }
   ],
   "source": [
    "model = Lasso(alpha=1,tol=0.25)\n",
    "cv = KFold(n_splits=10)\n",
    "scores = cross_validate(model, X_train, Y_train, scoring='neg_mean_absolute_error', cv=cv,return_estimator=True)\n",
    "print(scores)"
   ]
  },
  {
   "cell_type": "code",
   "execution_count": 150,
   "metadata": {},
   "outputs": [
    {
     "name": "stdout",
     "output_type": "stream",
     "text": [
      "RMSE\n"
     ]
    },
    {
     "data": {
      "text/plain": [
       "40.92640566214353"
      ]
     },
     "execution_count": 150,
     "metadata": {},
     "output_type": "execute_result"
    }
   ],
   "source": [
    "imp=scores['estimator'][2].fit(X_train,Y_train)\n",
    "im=imp.coef_\n",
    "importance = np.abs(im)\n",
    "array=np.array(importance)\n",
    "print(\"RMSE\")\n",
    "mean_squared_error(Y_test, imp.predict(X_test),squared=False)\n"
   ]
  },
  {
   "cell_type": "markdown",
   "metadata": {},
   "source": [
    "<h2>Lasso important features</h2>"
   ]
  },
  {
   "cell_type": "code",
   "execution_count": 151,
   "metadata": {},
   "outputs": [
    {
     "name": "stdout",
     "output_type": "stream",
     "text": [
      "[0, 1, 2, 3, 4, 5, 8, 9, 10, 11, 13, 15, 16, 17, 18, 19, 20, 21, 22, 23, 24, 28, 50, 51, 53, 54, 60, 61, 279]\n"
     ]
    }
   ],
   "source": [
    "imp_features=[]\n",
    "for data,index in zip(array,list(range(280))):\n",
    "    if(data >0):\n",
    "        imp_features.append(index)\n",
    "\n",
    "print(imp_features)"
   ]
  },
  {
   "cell_type": "code",
   "execution_count": null,
   "metadata": {},
   "outputs": [],
   "source": []
  }
 ],
 "metadata": {
  "interpreter": {
   "hash": "aee8b7b246df8f9039afb4144a1f6fd8d2ca17a180786b69acc140d282b71a49"
  },
  "kernelspec": {
   "display_name": "Python 3.9.7 64-bit",
   "language": "python",
   "name": "python3"
  },
  "language_info": {
   "codemirror_mode": {
    "name": "ipython",
    "version": 3
   },
   "file_extension": ".py",
   "mimetype": "text/x-python",
   "name": "python",
   "nbconvert_exporter": "python",
   "pygments_lexer": "ipython3",
   "version": "3.9.7"
  },
  "orig_nbformat": 4
 },
 "nbformat": 4,
 "nbformat_minor": 2
}
