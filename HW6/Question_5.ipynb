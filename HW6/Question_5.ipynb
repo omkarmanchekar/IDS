{
 "cells": [
  {
   "cell_type": "code",
   "execution_count": 12,
   "metadata": {},
   "outputs": [],
   "source": [
    "from bitarray import bitarray\n",
    "import xxhash\n",
    "import jhashcode\n",
    "import mmh3\n",
    "from statistics import median\n",
    "import math\n"
   ]
  },
  {
   "cell_type": "code",
   "execution_count": 3,
   "metadata": {},
   "outputs": [],
   "source": [
    "def trailing_zeros(n):\n",
    "\ts = str(n)\n",
    "\treturn len(s)-len(s.rstrip('0'))"
   ]
  },
  {
   "cell_type": "code",
   "execution_count": 4,
   "metadata": {},
   "outputs": [],
   "source": [
    "input_file =['/Users/omkarmanchekar/Desktop/Semester 1/Intro to Data Science/HW/HW6/Dataset_Q4/quotes_2008-08.txt',\n",
    "'/Users/omkarmanchekar/Desktop/Semester 1/Intro to Data Science/HW/HW6/Dataset_Q4/quotes_2008-09.txt',\n",
    "'/Users/omkarmanchekar/Desktop/Semester 1/Intro to Data Science/HW/HW6/Dataset_Q4/quotes_2008-10.txt',\n",
    "'/Users/omkarmanchekar/Desktop/Semester 1/Intro to Data Science/HW/HW6/Dataset_Q4/quotes_2008-11.txt',\n",
    "'/Users/omkarmanchekar/Desktop/Semester 1/Intro to Data Science/HW/HW6/Dataset_Q4/quotes_2008-12.txt',\n",
    "'/Users/omkarmanchekar/Desktop/Semester 1/Intro to Data Science/HW/HW6/Dataset_Q4/quotes_2009-01.txt',\n",
    "'/Users/omkarmanchekar/Desktop/Semester 1/Intro to Data Science/HW/HW6/Dataset_Q4/quotes_2009-02.txt',\n",
    "'/Users/omkarmanchekar/Desktop/Semester 1/Intro to Data Science/HW/HW6/Dataset_Q4/quotes_2009-03.txt',\n",
    "'/Users/omkarmanchekar/Desktop/Semester 1/Intro to Data Science/HW/HW6/Dataset_Q4/quotes_2009-04.txt'\n",
    "]"
   ]
  },
  {
   "cell_type": "code",
   "execution_count": 5,
   "metadata": {},
   "outputs": [],
   "source": [
    "hash1_max=0\n",
    "hash2_max=0\n",
    "hash3_max=0\n",
    "for i in input_file:\n",
    "    file = open(i, \"r\", encoding='ISO-8859-1')\n",
    "    for line in file:\n",
    "        temp=line.split(\"\\t\")\n",
    "        if(temp[0] == 'Q'):\n",
    "            hash1=trailing_zeros(format(abs(xxhash.xxh32(temp[1]).intdigest()),'032b'))\n",
    "            hash2=trailing_zeros(format(abs(jhashcode.hashcode(temp[1])),'032b'))\n",
    "            hash3=trailing_zeros(format(abs(mmh3.hash(temp[1])),'032b'))\n",
    "            if(hash1>hash1_max):\n",
    "                hash1_max=hash1\n",
    "            if(hash2>hash2_max):\n",
    "                hash2_max=hash2\n",
    "            if(hash3>hash3_max):\n",
    "                hash3_max=hash3\n",
    "\n"
   ]
  },
  {
   "cell_type": "code",
   "execution_count": 23,
   "metadata": {},
   "outputs": [
    {
     "name": "stdout",
     "output_type": "stream",
     "text": [
      "distinct values =  218103808\n"
     ]
    }
   ],
   "source": [
    "avg= (2**(hash1_max) + 2**(hash3_max))/ float(2)\n",
    "distinct= math.ceil(median([avg, 2**hash2_max]))\n",
    "print(\"distinct values = \",distinct)"
   ]
  },
  {
   "cell_type": "code",
   "execution_count": null,
   "metadata": {},
   "outputs": [],
   "source": []
  }
 ],
 "metadata": {
  "interpreter": {
   "hash": "aee8b7b246df8f9039afb4144a1f6fd8d2ca17a180786b69acc140d282b71a49"
  },
  "kernelspec": {
   "display_name": "Python 3.9.7 64-bit",
   "language": "python",
   "name": "python3"
  },
  "language_info": {
   "codemirror_mode": {
    "name": "ipython",
    "version": 3
   },
   "file_extension": ".py",
   "mimetype": "text/x-python",
   "name": "python",
   "nbconvert_exporter": "python",
   "pygments_lexer": "ipython3",
   "version": "3.9.7"
  },
  "orig_nbformat": 4
 },
 "nbformat": 4,
 "nbformat_minor": 2
}
